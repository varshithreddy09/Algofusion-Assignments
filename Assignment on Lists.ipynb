{
 "cells": [
  {
   "cell_type": "markdown",
   "id": "2458f721",
   "metadata": {},
   "source": [
    "# # LIST METHODS"
   ]
  },
  {
   "cell_type": "code",
   "execution_count": 1,
   "id": "73d47ccf",
   "metadata": {},
   "outputs": [
    {
     "name": "stdout",
     "output_type": "stream",
     "text": [
      "[1, 2, 3, 'varshith']\n"
     ]
    }
   ],
   "source": [
    "# 1. append()\n",
    "my_list = [1, 2, 3]\n",
    "my_list.append(\"varshith\")\n",
    "print(my_list)  # The append() method adds an element to the end of the list."
   ]
  },
  {
   "cell_type": "code",
   "execution_count": 2,
   "id": "7c58a497",
   "metadata": {},
   "outputs": [
    {
     "name": "stdout",
     "output_type": "stream",
     "text": [
      "[1, 2, 3]\n"
     ]
    }
   ],
   "source": [
    "# 2. copy()\n",
    "my_list = [1, 2, 3]\n",
    "new_list = my_list.copy()\n",
    "print(new_list)  # The copy() method creates a copy of the list.\n"
   ]
  },
  {
   "cell_type": "code",
   "execution_count": 3,
   "id": "b265a0f8",
   "metadata": {},
   "outputs": [
    {
     "name": "stdout",
     "output_type": "stream",
     "text": [
      "[]\n"
     ]
    }
   ],
   "source": [
    "# 3. clear()\n",
    "my_list = [1, 2, 3]\n",
    "my_list.clear()\n",
    "print(my_list)  # The clear() method removes all elements from the list.  \n"
   ]
  },
  {
   "cell_type": "code",
   "execution_count": 4,
   "id": "c4c084e7",
   "metadata": {},
   "outputs": [
    {
     "name": "stdout",
     "output_type": "stream",
     "text": [
      "3\n"
     ]
    }
   ],
   "source": [
    "# 4. count()\n",
    "my_list = [1, 2, 3, 1, 1]\n",
    "count = my_list.count(1)\n",
    "print(count)  # The count() method returns the number of occurrences of a specified element in the list. \n"
   ]
  },
  {
   "cell_type": "code",
   "execution_count": 20,
   "id": "4132e6e8",
   "metadata": {},
   "outputs": [
    {
     "name": "stdout",
     "output_type": "stream",
     "text": [
      "[1, 2, 3, 4, 5]\n"
     ]
    }
   ],
   "source": [
    "# 5. extend()\n",
    "my_list = [1, 2, 3]\n",
    "my_list.extend([4, 5])\n",
    "print(my_list) # The extend() method extends the list by appending elements at the end. \n"
   ]
  },
  {
   "cell_type": "code",
   "execution_count": 6,
   "id": "48749110",
   "metadata": {},
   "outputs": [
    {
     "name": "stdout",
     "output_type": "stream",
     "text": [
      "2\n"
     ]
    }
   ],
   "source": [
    "# 6. index()\n",
    "my_list = [1, 2, 3, 1, 1]\n",
    "index = my_list.index(3)\n",
    "print(index)  # The index() method returns the index of the first occurrence of a specified element in the list.\n"
   ]
  },
  {
   "cell_type": "code",
   "execution_count": 7,
   "id": "8223f57a",
   "metadata": {},
   "outputs": [
    {
     "name": "stdout",
     "output_type": "stream",
     "text": [
      "[1, 4, 2, 3]\n"
     ]
    }
   ],
   "source": [
    "# 7. insert()\n",
    "my_list = [1, 2, 3]\n",
    "my_list.insert(1, 4)\n",
    "print(my_list)  # The insert() method inserts an element at the specified index in the list. \n"
   ]
  },
  {
   "cell_type": "code",
   "execution_count": 8,
   "id": "4d9b8c64",
   "metadata": {},
   "outputs": [
    {
     "name": "stdout",
     "output_type": "stream",
     "text": [
      "2\n",
      "[1, 3]\n"
     ]
    }
   ],
   "source": [
    "# 8. pop()\n",
    "my_list = [1, 2, 3]\n",
    "element = my_list.pop(1)\n",
    "print(element)  \n",
    "print(my_list)  \n",
    " #The pop() method removes and returns the element at the specified index, or the last element if no index is provided."
   ]
  },
  {
   "cell_type": "code",
   "execution_count": 22,
   "id": "a6ca5229",
   "metadata": {},
   "outputs": [
    {
     "name": "stdout",
     "output_type": "stream",
     "text": [
      "[2, 3, 1]\n"
     ]
    }
   ],
   "source": [
    "# 9. remove()\n",
    "my_list = [1, 2, 3, 1]\n",
    "my_list.remove(1)\n",
    "print(my_list) # The remove() method removes the first occurrence of a specified element from the list. \n"
   ]
  },
  {
   "cell_type": "code",
   "execution_count": 10,
   "id": "6480991a",
   "metadata": {},
   "outputs": [
    {
     "name": "stdout",
     "output_type": "stream",
     "text": [
      "[3, 2, 1]\n"
     ]
    }
   ],
   "source": [
    "# 10. reverse()\n",
    "my_list = [1, 2, 3]\n",
    "my_list.reverse()\n",
    "print(my_list)  # The reverse() method reverses the order of the elements in the list.\n"
   ]
  },
  {
   "cell_type": "code",
   "execution_count": 11,
   "id": "dad2500b",
   "metadata": {},
   "outputs": [
    {
     "name": "stdout",
     "output_type": "stream",
     "text": [
      "[1, 2, 3]\n"
     ]
    }
   ],
   "source": [
    "# 11. sort()\n",
    "my_list = [3, 1, 2]\n",
    "my_list.sort()\n",
    "print(my_list) # The sort() method sorts the elements in the list in ascending order."
   ]
  },
  {
   "cell_type": "code",
   "execution_count": 17,
   "id": "e055def1",
   "metadata": {},
   "outputs": [
    {
     "name": "stdout",
     "output_type": "stream",
     "text": [
      "-5\n"
     ]
    }
   ],
   "source": [
    "# 12. min()\n",
    "my_list = [3, 1, 2, 0, -1, -5]\n",
    "minimum = min(my_list)\n",
    "print(minimum) \n",
    "# The min() functions return the minimum element in the list.\n"
   ]
  },
  {
   "cell_type": "code",
   "execution_count": 18,
   "id": "13dfeec7",
   "metadata": {},
   "outputs": [
    {
     "name": "stdout",
     "output_type": "stream",
     "text": [
      "3\n"
     ]
    }
   ],
   "source": [
    "# 13. max()\n",
    "my_list = [3, 1, 2, 0, -1, -5]\n",
    "maximum = max(my_list) \n",
    "print(maximum)\n",
    "# The max() functions return the maximum element in the list.\n"
   ]
  },
  {
   "cell_type": "code",
   "execution_count": null,
   "id": "ecd5d642",
   "metadata": {},
   "outputs": [],
   "source": []
  }
 ],
 "metadata": {
  "kernelspec": {
   "display_name": "Python 3 (ipykernel)",
   "language": "python",
   "name": "python3"
  },
  "language_info": {
   "codemirror_mode": {
    "name": "ipython",
    "version": 3
   },
   "file_extension": ".py",
   "mimetype": "text/x-python",
   "name": "python",
   "nbconvert_exporter": "python",
   "pygments_lexer": "ipython3",
   "version": "3.10.9"
  }
 },
 "nbformat": 4,
 "nbformat_minor": 5
}
