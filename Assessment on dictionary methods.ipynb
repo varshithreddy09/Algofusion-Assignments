{
 "cells": [
  {
   "cell_type": "markdown",
   "id": "c790b9db",
   "metadata": {},
   "source": [
    "# DICTIONARY METHODS"
   ]
  },
  {
   "cell_type": "code",
   "execution_count": 4,
   "id": "5d5c4795",
   "metadata": {},
   "outputs": [
    {
     "name": "stdout",
     "output_type": "stream",
     "text": [
      "{}\n"
     ]
    }
   ],
   "source": [
    "# 1. clear()\n",
    "my_dict = {'name': 'varshith', 'age': 21}\n",
    "my_dict.clear()\n",
    "print(my_dict) # The clear() method removes all key-value pairs from the dictionary. "
   ]
  },
  {
   "cell_type": "code",
   "execution_count": 2,
   "id": "c2e75bf9",
   "metadata": {},
   "outputs": [
    {
     "name": "stdout",
     "output_type": "stream",
     "text": [
      "{'name': 'varshith', 'age': 21}\n"
     ]
    }
   ],
   "source": [
    "# 2. copy()\n",
    "my_dict = {'name': 'varshith', 'age': 21}\n",
    "new_dict = my_dict.copy()\n",
    "print(new_dict)  # Output: {'name': 'John', 'age': 30}\n"
   ]
  },
  {
   "cell_type": "code",
   "execution_count": 34,
   "id": "d566d6fc",
   "metadata": {},
   "outputs": [
    {
     "name": "stdout",
     "output_type": "stream",
     "text": [
      "varshith\n",
      "21\n"
     ]
    }
   ],
   "source": [
    "# 3. get()\n",
    "my_dict = {'name': 'varshith', 'age': 21}\n",
    "name = my_dict.get('name')\n",
    "age = my_dict.get('age')\n",
    "print(name) \n",
    "print(age) # The get() method returns the value for a given key in the dictionary.\n"
   ]
  },
  {
   "cell_type": "code",
   "execution_count": 35,
   "id": "824b425c",
   "metadata": {},
   "outputs": [
    {
     "name": "stdout",
     "output_type": "stream",
     "text": [
      "dict_items([('name', 'varshith'), ('age', 21)])\n"
     ]
    }
   ],
   "source": [
    "# 4. items()\n",
    "my_dict = {'name': 'varshith', 'age': 21}\n",
    "items = my_dict.items()\n",
    "print(items)  # The items() method returns the key-value pairs of the dictionary as tuples.\n"
   ]
  },
  {
   "cell_type": "code",
   "execution_count": 36,
   "id": "d9f2186f",
   "metadata": {},
   "outputs": [
    {
     "name": "stdout",
     "output_type": "stream",
     "text": [
      "dict_keys(['name', 'age'])\n"
     ]
    }
   ],
   "source": [
    "# 5. keys()\n",
    "my_dict = {'name': 'varshith', 'age': 21}\n",
    "keys = my_dict.keys()\n",
    "print(keys)  # The keys() method returns a view object that contains the keys of the dictionary.\n"
   ]
  },
  {
   "cell_type": "code",
   "execution_count": 37,
   "id": "836b5470",
   "metadata": {},
   "outputs": [
    {
     "name": "stdout",
     "output_type": "stream",
     "text": [
      "dict_values(['varshith', 21])\n"
     ]
    }
   ],
   "source": [
    "# 6. values()\n",
    "my_dict = {'name': 'varshith', 'age': 21}\n",
    "values = my_dict.values()\n",
    "print(values)  # The values() method returns a view object that contains the values of the dictionary. \n"
   ]
  },
  {
   "cell_type": "code",
   "execution_count": 38,
   "id": "8e58e92f",
   "metadata": {},
   "outputs": [
    {
     "name": "stdout",
     "output_type": "stream",
     "text": [
      "varshith\n",
      "{'age': 21}\n"
     ]
    }
   ],
   "source": [
    "# 7. pop()\n",
    "my_dict = {'name': 'varshith', 'age': 21}\n",
    "name = my_dict.pop('name')\n",
    "print(name)\n",
    "print(my_dict) # The pop() method removes and returns the value for a given key in the dictionary.\n"
   ]
  },
  {
   "cell_type": "code",
   "execution_count": 39,
   "id": "a265578c",
   "metadata": {},
   "outputs": [
    {
     "name": "stdout",
     "output_type": "stream",
     "text": [
      "('age', 21)\n",
      "{'name': 'varshith'}\n"
     ]
    }
   ],
   "source": [
    "# 8. popitem()\n",
    "my_dict = {'name': 'varshith', 'age': 21}\n",
    "item = my_dict.popitem()\n",
    "print(item) \n",
    "print(my_dict) # The popitem() method removes and returns the last inserted key-value pair as a tuple.\n"
   ]
  },
  {
   "cell_type": "code",
   "execution_count": 1,
   "id": "1fce5695",
   "metadata": {},
   "outputs": [
    {
     "name": "stdout",
     "output_type": "stream",
     "text": [
      "{'name': 'varshith', 'age': 21, 'country': 'india'}\n"
     ]
    }
   ],
   "source": [
    "# 9. update()\n",
    "my_dict = {'name': 'varshith', 'age': 21}\n",
    "my_dict.update({'country': 'india'})\n",
    "print(my_dict)  # The update() method updates the dictionary with key-value pairs."
   ]
  },
  {
   "cell_type": "code",
   "execution_count": 41,
   "id": "4a6037a2",
   "metadata": {},
   "outputs": [
    {
     "name": "stdout",
     "output_type": "stream",
     "text": [
      "{'name': 'varshith', 'country': 'india'}\n"
     ]
    }
   ],
   "source": [
    "# 10. del\n",
    "my_dict = {'name': 'varshith', 'age': 21, 'country' : 'india'}\n",
    "del my_dict['age']\n",
    "print(my_dict) # The del statement removes a key-value pair from the dictionary.\n"
   ]
  },
  {
   "cell_type": "code",
   "execution_count": 23,
   "id": "57887ea4",
   "metadata": {},
   "outputs": [
    {
     "name": "stdout",
     "output_type": "stream",
     "text": [
      "3\n"
     ]
    }
   ],
   "source": [
    "# 11. len()\n",
    "my_dict = {'name': 'varshith', 'age': 21, 'city': 'india'}\n",
    "length = len(my_dict)\n",
    "print(length)  # The len() function returns the number of key-value pairs in the dictionary\n"
   ]
  },
  {
   "cell_type": "code",
   "execution_count": null,
   "id": "6b94f6a7",
   "metadata": {},
   "outputs": [],
   "source": []
  }
 ],
 "metadata": {
  "kernelspec": {
   "display_name": "Python 3 (ipykernel)",
   "language": "python",
   "name": "python3"
  },
  "language_info": {
   "codemirror_mode": {
    "name": "ipython",
    "version": 3
   },
   "file_extension": ".py",
   "mimetype": "text/x-python",
   "name": "python",
   "nbconvert_exporter": "python",
   "pygments_lexer": "ipython3",
   "version": "3.10.9"
  }
 },
 "nbformat": 4,
 "nbformat_minor": 5
}
